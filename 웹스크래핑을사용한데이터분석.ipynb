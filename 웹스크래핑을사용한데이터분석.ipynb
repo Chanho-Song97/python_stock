{
 "cells": [
  {
   "cell_type": "code",
   "execution_count": 1,
   "id": "2a8f8323",
   "metadata": {},
   "outputs": [
    {
     "name": "stdout",
     "output_type": "stream",
     "text": [
      "Requirement already satisfied: html5lib in c:\\users\\gjaischool-77\\anaconda3\\lib\\site-packages (1.1)\n",
      "Requirement already satisfied: six>=1.9 in c:\\users\\gjaischool-77\\anaconda3\\lib\\site-packages (from html5lib) (1.16.0)\n",
      "Requirement already satisfied: webencodings in c:\\users\\gjaischool-77\\anaconda3\\lib\\site-packages (from html5lib) (0.5.1)\n",
      "Note: you may need to restart the kernel to use updated packages.\n"
     ]
    }
   ],
   "source": [
    "pip install html5lib"
   ]
  },
  {
   "cell_type": "code",
   "execution_count": 2,
   "id": "c3e80e81",
   "metadata": {},
   "outputs": [
    {
     "data": {
      "text/html": [
       "<div>\n",
       "<style scoped>\n",
       "    .dataframe tbody tr th:only-of-type {\n",
       "        vertical-align: middle;\n",
       "    }\n",
       "\n",
       "    .dataframe tbody tr th {\n",
       "        vertical-align: top;\n",
       "    }\n",
       "\n",
       "    .dataframe thead th {\n",
       "        text-align: right;\n",
       "    }\n",
       "</style>\n",
       "<table border=\"1\" class=\"dataframe\">\n",
       "  <thead>\n",
       "    <tr style=\"text-align: right;\">\n",
       "      <th></th>\n",
       "      <th>회사명</th>\n",
       "      <th>종목코드</th>\n",
       "      <th>업종</th>\n",
       "      <th>주요제품</th>\n",
       "      <th>상장일</th>\n",
       "      <th>결산월</th>\n",
       "      <th>대표자명</th>\n",
       "      <th>홈페이지</th>\n",
       "      <th>지역</th>\n",
       "    </tr>\n",
       "  </thead>\n",
       "  <tbody>\n",
       "    <tr>\n",
       "      <th>0</th>\n",
       "      <td>윤성에프앤씨</td>\n",
       "      <td>372170</td>\n",
       "      <td>구조용 금속제품, 탱크 및 증기발생기 제조업</td>\n",
       "      <td>2차전지용 믹싱시스템</td>\n",
       "      <td>2022-11-14</td>\n",
       "      <td>12월</td>\n",
       "      <td>박치영</td>\n",
       "      <td>http://www.ysfc.co.kr</td>\n",
       "      <td>경기도</td>\n",
       "    </tr>\n",
       "    <tr>\n",
       "      <th>1</th>\n",
       "      <td>디티앤씨알오</td>\n",
       "      <td>383930</td>\n",
       "      <td>자연과학 및 공학 연구개발업</td>\n",
       "      <td>비임상 및 임상시험 대체 용역</td>\n",
       "      <td>2022-11-11</td>\n",
       "      <td>12월</td>\n",
       "      <td>박채규</td>\n",
       "      <td>http://www.dtncro.com</td>\n",
       "      <td>경기도</td>\n",
       "    </tr>\n",
       "    <tr>\n",
       "      <th>2</th>\n",
       "      <td>뉴로메카</td>\n",
       "      <td>348340</td>\n",
       "      <td>특수 목적용 기계 제조업</td>\n",
       "      <td>협동로봇, 협동로봇 자동화 플랫폼, 로봇제어기 등</td>\n",
       "      <td>2022-11-04</td>\n",
       "      <td>12월</td>\n",
       "      <td>박종훈</td>\n",
       "      <td>http://www.neuromeka.com</td>\n",
       "      <td>서울특별시</td>\n",
       "    </tr>\n",
       "    <tr>\n",
       "      <th>3</th>\n",
       "      <td>제이아이테크</td>\n",
       "      <td>417500</td>\n",
       "      <td>기타 화학제품 제조업</td>\n",
       "      <td>반도체 프리커서 및 쿼츠/블랭크/포토마스크용 케이스</td>\n",
       "      <td>2022-11-04</td>\n",
       "      <td>12월</td>\n",
       "      <td>함석헌</td>\n",
       "      <td>http://www.ji-tech.co.kr</td>\n",
       "      <td>전라북도</td>\n",
       "    </tr>\n",
       "    <tr>\n",
       "      <th>4</th>\n",
       "      <td>LX세미콘</td>\n",
       "      <td>108320</td>\n",
       "      <td>반도체 제조업</td>\n",
       "      <td>Display Driver IC</td>\n",
       "      <td>2022-11-03</td>\n",
       "      <td>12월</td>\n",
       "      <td>손보익</td>\n",
       "      <td>http://www.lxsemicon.com</td>\n",
       "      <td>대전광역시</td>\n",
       "    </tr>\n",
       "    <tr>\n",
       "      <th>...</th>\n",
       "      <td>...</td>\n",
       "      <td>...</td>\n",
       "      <td>...</td>\n",
       "      <td>...</td>\n",
       "      <td>...</td>\n",
       "      <td>...</td>\n",
       "      <td>...</td>\n",
       "      <td>...</td>\n",
       "      <td>...</td>\n",
       "    </tr>\n",
       "    <tr>\n",
       "      <th>2545</th>\n",
       "      <td>CJ대한통운</td>\n",
       "      <td>120</td>\n",
       "      <td>도로 화물 운송업</td>\n",
       "      <td>Contract Logistics, 포워딩, 항만하역, 해운, 택배국제특송, SCM...</td>\n",
       "      <td>1956-07-02</td>\n",
       "      <td>12월</td>\n",
       "      <td>강신호,민영학(각자대표)</td>\n",
       "      <td>http://www.cjlogistics.com</td>\n",
       "      <td>서울특별시</td>\n",
       "    </tr>\n",
       "    <tr>\n",
       "      <th>2546</th>\n",
       "      <td>메리츠화재</td>\n",
       "      <td>60</td>\n",
       "      <td>보험업</td>\n",
       "      <td>손해보험(화재,해상,운송보험)</td>\n",
       "      <td>1956-07-02</td>\n",
       "      <td>12월</td>\n",
       "      <td>김용범</td>\n",
       "      <td>http://www.meritzfire.com</td>\n",
       "      <td>서울특별시</td>\n",
       "    </tr>\n",
       "    <tr>\n",
       "      <th>2547</th>\n",
       "      <td>경방</td>\n",
       "      <td>50</td>\n",
       "      <td>종합 소매업</td>\n",
       "      <td>섬유류(면사,면혼방사,면직물,면혼방직물,화섬사,화섬직물) 제조,도매,수출입</td>\n",
       "      <td>1956-03-03</td>\n",
       "      <td>12월</td>\n",
       "      <td>김준, 김담</td>\n",
       "      <td>http://www.kyungbang.co.kr</td>\n",
       "      <td>서울특별시</td>\n",
       "    </tr>\n",
       "    <tr>\n",
       "      <th>2548</th>\n",
       "      <td>유수홀딩스</td>\n",
       "      <td>700</td>\n",
       "      <td>회사 본부 및 경영 컨설팅 서비스업</td>\n",
       "      <td>지주사업</td>\n",
       "      <td>1956-03-03</td>\n",
       "      <td>12월</td>\n",
       "      <td>송영규</td>\n",
       "      <td>http://www.eusu-holdings.com</td>\n",
       "      <td>서울특별시</td>\n",
       "    </tr>\n",
       "    <tr>\n",
       "      <th>2549</th>\n",
       "      <td>한진중공업홀딩스</td>\n",
       "      <td>3480</td>\n",
       "      <td>연료용 가스 제조 및 배관공급업</td>\n",
       "      <td>지주회사</td>\n",
       "      <td>1956-03-03</td>\n",
       "      <td>12월</td>\n",
       "      <td>조남호, 조원국</td>\n",
       "      <td>http://www.hhic-holdings.com</td>\n",
       "      <td>경기도</td>\n",
       "    </tr>\n",
       "  </tbody>\n",
       "</table>\n",
       "<p>2550 rows × 9 columns</p>\n",
       "</div>"
      ],
      "text/plain": [
       "           회사명    종목코드                        업종  \\\n",
       "0       윤성에프앤씨  372170  구조용 금속제품, 탱크 및 증기발생기 제조업   \n",
       "1       디티앤씨알오  383930           자연과학 및 공학 연구개발업   \n",
       "2         뉴로메카  348340             특수 목적용 기계 제조업   \n",
       "3       제이아이테크  417500               기타 화학제품 제조업   \n",
       "4        LX세미콘  108320                   반도체 제조업   \n",
       "...        ...     ...                       ...   \n",
       "2545    CJ대한통운     120                 도로 화물 운송업   \n",
       "2546     메리츠화재      60                       보험업   \n",
       "2547        경방      50                    종합 소매업   \n",
       "2548     유수홀딩스     700       회사 본부 및 경영 컨설팅 서비스업   \n",
       "2549  한진중공업홀딩스    3480         연료용 가스 제조 및 배관공급업   \n",
       "\n",
       "                                                   주요제품         상장일  결산월  \\\n",
       "0                                           2차전지용 믹싱시스템  2022-11-14  12월   \n",
       "1                                      비임상 및 임상시험 대체 용역  2022-11-11  12월   \n",
       "2                           협동로봇, 협동로봇 자동화 플랫폼, 로봇제어기 등  2022-11-04  12월   \n",
       "3                          반도체 프리커서 및 쿼츠/블랭크/포토마스크용 케이스  2022-11-04  12월   \n",
       "4                                     Display Driver IC  2022-11-03  12월   \n",
       "...                                                 ...         ...  ...   \n",
       "2545  Contract Logistics, 포워딩, 항만하역, 해운, 택배국제특송, SCM...  1956-07-02  12월   \n",
       "2546                                   손해보험(화재,해상,운송보험)  1956-07-02  12월   \n",
       "2547          섬유류(면사,면혼방사,면직물,면혼방직물,화섬사,화섬직물) 제조,도매,수출입  1956-03-03  12월   \n",
       "2548                                               지주사업  1956-03-03  12월   \n",
       "2549                                               지주회사  1956-03-03  12월   \n",
       "\n",
       "               대표자명                          홈페이지     지역  \n",
       "0               박치영         http://www.ysfc.co.kr    경기도  \n",
       "1               박채규         http://www.dtncro.com    경기도  \n",
       "2               박종훈      http://www.neuromeka.com  서울특별시  \n",
       "3               함석헌      http://www.ji-tech.co.kr   전라북도  \n",
       "4               손보익      http://www.lxsemicon.com  대전광역시  \n",
       "...             ...                           ...    ...  \n",
       "2545  강신호,민영학(각자대표)    http://www.cjlogistics.com  서울특별시  \n",
       "2546            김용범     http://www.meritzfire.com  서울특별시  \n",
       "2547         김준, 김담    http://www.kyungbang.co.kr  서울특별시  \n",
       "2548            송영규  http://www.eusu-holdings.com  서울특별시  \n",
       "2549       조남호, 조원국  http://www.hhic-holdings.com    경기도  \n",
       "\n",
       "[2550 rows x 9 columns]"
      ]
     },
     "execution_count": 2,
     "metadata": {},
     "output_type": "execute_result"
    }
   ],
   "source": [
    "import pandas as pd\n",
    "krx_list = pd.read_html('./data/상장법인목록.xls')\n",
    "krx_list[0]"
   ]
  },
  {
   "cell_type": "code",
   "execution_count": 3,
   "id": "7bea728b",
   "metadata": {},
   "outputs": [],
   "source": [
    "krx_list[0].종목코드 = krx_list[0].종목코드.map('{:06d}'.format)"
   ]
  },
  {
   "cell_type": "code",
   "execution_count": 4,
   "id": "67e166b8",
   "metadata": {},
   "outputs": [
    {
     "data": {
      "text/html": [
       "<div>\n",
       "<style scoped>\n",
       "    .dataframe tbody tr th:only-of-type {\n",
       "        vertical-align: middle;\n",
       "    }\n",
       "\n",
       "    .dataframe tbody tr th {\n",
       "        vertical-align: top;\n",
       "    }\n",
       "\n",
       "    .dataframe thead th {\n",
       "        text-align: right;\n",
       "    }\n",
       "</style>\n",
       "<table border=\"1\" class=\"dataframe\">\n",
       "  <thead>\n",
       "    <tr style=\"text-align: right;\">\n",
       "      <th></th>\n",
       "      <th>회사명</th>\n",
       "      <th>종목코드</th>\n",
       "      <th>업종</th>\n",
       "      <th>주요제품</th>\n",
       "      <th>상장일</th>\n",
       "      <th>결산월</th>\n",
       "      <th>대표자명</th>\n",
       "      <th>홈페이지</th>\n",
       "      <th>지역</th>\n",
       "    </tr>\n",
       "  </thead>\n",
       "  <tbody>\n",
       "    <tr>\n",
       "      <th>0</th>\n",
       "      <td>윤성에프앤씨</td>\n",
       "      <td>372170</td>\n",
       "      <td>구조용 금속제품, 탱크 및 증기발생기 제조업</td>\n",
       "      <td>2차전지용 믹싱시스템</td>\n",
       "      <td>2022-11-14</td>\n",
       "      <td>12월</td>\n",
       "      <td>박치영</td>\n",
       "      <td>http://www.ysfc.co.kr</td>\n",
       "      <td>경기도</td>\n",
       "    </tr>\n",
       "    <tr>\n",
       "      <th>1</th>\n",
       "      <td>디티앤씨알오</td>\n",
       "      <td>383930</td>\n",
       "      <td>자연과학 및 공학 연구개발업</td>\n",
       "      <td>비임상 및 임상시험 대체 용역</td>\n",
       "      <td>2022-11-11</td>\n",
       "      <td>12월</td>\n",
       "      <td>박채규</td>\n",
       "      <td>http://www.dtncro.com</td>\n",
       "      <td>경기도</td>\n",
       "    </tr>\n",
       "    <tr>\n",
       "      <th>2</th>\n",
       "      <td>뉴로메카</td>\n",
       "      <td>348340</td>\n",
       "      <td>특수 목적용 기계 제조업</td>\n",
       "      <td>협동로봇, 협동로봇 자동화 플랫폼, 로봇제어기 등</td>\n",
       "      <td>2022-11-04</td>\n",
       "      <td>12월</td>\n",
       "      <td>박종훈</td>\n",
       "      <td>http://www.neuromeka.com</td>\n",
       "      <td>서울특별시</td>\n",
       "    </tr>\n",
       "    <tr>\n",
       "      <th>3</th>\n",
       "      <td>제이아이테크</td>\n",
       "      <td>417500</td>\n",
       "      <td>기타 화학제품 제조업</td>\n",
       "      <td>반도체 프리커서 및 쿼츠/블랭크/포토마스크용 케이스</td>\n",
       "      <td>2022-11-04</td>\n",
       "      <td>12월</td>\n",
       "      <td>함석헌</td>\n",
       "      <td>http://www.ji-tech.co.kr</td>\n",
       "      <td>전라북도</td>\n",
       "    </tr>\n",
       "    <tr>\n",
       "      <th>4</th>\n",
       "      <td>LX세미콘</td>\n",
       "      <td>108320</td>\n",
       "      <td>반도체 제조업</td>\n",
       "      <td>Display Driver IC</td>\n",
       "      <td>2022-11-03</td>\n",
       "      <td>12월</td>\n",
       "      <td>손보익</td>\n",
       "      <td>http://www.lxsemicon.com</td>\n",
       "      <td>대전광역시</td>\n",
       "    </tr>\n",
       "    <tr>\n",
       "      <th>...</th>\n",
       "      <td>...</td>\n",
       "      <td>...</td>\n",
       "      <td>...</td>\n",
       "      <td>...</td>\n",
       "      <td>...</td>\n",
       "      <td>...</td>\n",
       "      <td>...</td>\n",
       "      <td>...</td>\n",
       "      <td>...</td>\n",
       "    </tr>\n",
       "    <tr>\n",
       "      <th>2545</th>\n",
       "      <td>CJ대한통운</td>\n",
       "      <td>000120</td>\n",
       "      <td>도로 화물 운송업</td>\n",
       "      <td>Contract Logistics, 포워딩, 항만하역, 해운, 택배국제특송, SCM...</td>\n",
       "      <td>1956-07-02</td>\n",
       "      <td>12월</td>\n",
       "      <td>강신호,민영학(각자대표)</td>\n",
       "      <td>http://www.cjlogistics.com</td>\n",
       "      <td>서울특별시</td>\n",
       "    </tr>\n",
       "    <tr>\n",
       "      <th>2546</th>\n",
       "      <td>메리츠화재</td>\n",
       "      <td>000060</td>\n",
       "      <td>보험업</td>\n",
       "      <td>손해보험(화재,해상,운송보험)</td>\n",
       "      <td>1956-07-02</td>\n",
       "      <td>12월</td>\n",
       "      <td>김용범</td>\n",
       "      <td>http://www.meritzfire.com</td>\n",
       "      <td>서울특별시</td>\n",
       "    </tr>\n",
       "    <tr>\n",
       "      <th>2547</th>\n",
       "      <td>경방</td>\n",
       "      <td>000050</td>\n",
       "      <td>종합 소매업</td>\n",
       "      <td>섬유류(면사,면혼방사,면직물,면혼방직물,화섬사,화섬직물) 제조,도매,수출입</td>\n",
       "      <td>1956-03-03</td>\n",
       "      <td>12월</td>\n",
       "      <td>김준, 김담</td>\n",
       "      <td>http://www.kyungbang.co.kr</td>\n",
       "      <td>서울특별시</td>\n",
       "    </tr>\n",
       "    <tr>\n",
       "      <th>2548</th>\n",
       "      <td>유수홀딩스</td>\n",
       "      <td>000700</td>\n",
       "      <td>회사 본부 및 경영 컨설팅 서비스업</td>\n",
       "      <td>지주사업</td>\n",
       "      <td>1956-03-03</td>\n",
       "      <td>12월</td>\n",
       "      <td>송영규</td>\n",
       "      <td>http://www.eusu-holdings.com</td>\n",
       "      <td>서울특별시</td>\n",
       "    </tr>\n",
       "    <tr>\n",
       "      <th>2549</th>\n",
       "      <td>한진중공업홀딩스</td>\n",
       "      <td>003480</td>\n",
       "      <td>연료용 가스 제조 및 배관공급업</td>\n",
       "      <td>지주회사</td>\n",
       "      <td>1956-03-03</td>\n",
       "      <td>12월</td>\n",
       "      <td>조남호, 조원국</td>\n",
       "      <td>http://www.hhic-holdings.com</td>\n",
       "      <td>경기도</td>\n",
       "    </tr>\n",
       "  </tbody>\n",
       "</table>\n",
       "<p>2550 rows × 9 columns</p>\n",
       "</div>"
      ],
      "text/plain": [
       "           회사명    종목코드                        업종  \\\n",
       "0       윤성에프앤씨  372170  구조용 금속제품, 탱크 및 증기발생기 제조업   \n",
       "1       디티앤씨알오  383930           자연과학 및 공학 연구개발업   \n",
       "2         뉴로메카  348340             특수 목적용 기계 제조업   \n",
       "3       제이아이테크  417500               기타 화학제품 제조업   \n",
       "4        LX세미콘  108320                   반도체 제조업   \n",
       "...        ...     ...                       ...   \n",
       "2545    CJ대한통운  000120                 도로 화물 운송업   \n",
       "2546     메리츠화재  000060                       보험업   \n",
       "2547        경방  000050                    종합 소매업   \n",
       "2548     유수홀딩스  000700       회사 본부 및 경영 컨설팅 서비스업   \n",
       "2549  한진중공업홀딩스  003480         연료용 가스 제조 및 배관공급업   \n",
       "\n",
       "                                                   주요제품         상장일  결산월  \\\n",
       "0                                           2차전지용 믹싱시스템  2022-11-14  12월   \n",
       "1                                      비임상 및 임상시험 대체 용역  2022-11-11  12월   \n",
       "2                           협동로봇, 협동로봇 자동화 플랫폼, 로봇제어기 등  2022-11-04  12월   \n",
       "3                          반도체 프리커서 및 쿼츠/블랭크/포토마스크용 케이스  2022-11-04  12월   \n",
       "4                                     Display Driver IC  2022-11-03  12월   \n",
       "...                                                 ...         ...  ...   \n",
       "2545  Contract Logistics, 포워딩, 항만하역, 해운, 택배국제특송, SCM...  1956-07-02  12월   \n",
       "2546                                   손해보험(화재,해상,운송보험)  1956-07-02  12월   \n",
       "2547          섬유류(면사,면혼방사,면직물,면혼방직물,화섬사,화섬직물) 제조,도매,수출입  1956-03-03  12월   \n",
       "2548                                               지주사업  1956-03-03  12월   \n",
       "2549                                               지주회사  1956-03-03  12월   \n",
       "\n",
       "               대표자명                          홈페이지     지역  \n",
       "0               박치영         http://www.ysfc.co.kr    경기도  \n",
       "1               박채규         http://www.dtncro.com    경기도  \n",
       "2               박종훈      http://www.neuromeka.com  서울특별시  \n",
       "3               함석헌      http://www.ji-tech.co.kr   전라북도  \n",
       "4               손보익      http://www.lxsemicon.com  대전광역시  \n",
       "...             ...                           ...    ...  \n",
       "2545  강신호,민영학(각자대표)    http://www.cjlogistics.com  서울특별시  \n",
       "2546            김용범     http://www.meritzfire.com  서울특별시  \n",
       "2547         김준, 김담    http://www.kyungbang.co.kr  서울특별시  \n",
       "2548            송영규  http://www.eusu-holdings.com  서울특별시  \n",
       "2549       조남호, 조원국  http://www.hhic-holdings.com    경기도  \n",
       "\n",
       "[2550 rows x 9 columns]"
      ]
     },
     "execution_count": 4,
     "metadata": {},
     "output_type": "execute_result"
    }
   ],
   "source": [
    "krx_list[0]"
   ]
  },
  {
   "cell_type": "code",
   "execution_count": 5,
   "id": "5738e53d",
   "metadata": {},
   "outputs": [],
   "source": [
    "df = pd.read_html('http://kind.krx.co.kr/corpgeneral/corpList.do?method=download&searchType=13')[0]"
   ]
  },
  {
   "cell_type": "code",
   "execution_count": 6,
   "id": "3954da17",
   "metadata": {},
   "outputs": [],
   "source": [
    "df['종목코드'] = df['종목코드'].map('{:06d}'.format)\n",
    "df = df.sort_values(by='종목코드')"
   ]
  },
  {
   "cell_type": "code",
   "execution_count": 7,
   "id": "5f102152",
   "metadata": {},
   "outputs": [
    {
     "data": {
      "text/html": [
       "<div>\n",
       "<style scoped>\n",
       "    .dataframe tbody tr th:only-of-type {\n",
       "        vertical-align: middle;\n",
       "    }\n",
       "\n",
       "    .dataframe tbody tr th {\n",
       "        vertical-align: top;\n",
       "    }\n",
       "\n",
       "    .dataframe thead th {\n",
       "        text-align: right;\n",
       "    }\n",
       "</style>\n",
       "<table border=\"1\" class=\"dataframe\">\n",
       "  <thead>\n",
       "    <tr style=\"text-align: right;\">\n",
       "      <th></th>\n",
       "      <th>회사명</th>\n",
       "      <th>종목코드</th>\n",
       "      <th>업종</th>\n",
       "      <th>주요제품</th>\n",
       "      <th>상장일</th>\n",
       "      <th>결산월</th>\n",
       "      <th>대표자명</th>\n",
       "      <th>홈페이지</th>\n",
       "      <th>지역</th>\n",
       "    </tr>\n",
       "  </thead>\n",
       "  <tbody>\n",
       "    <tr>\n",
       "      <th>31</th>\n",
       "      <td>동화약품</td>\n",
       "      <td>000020</td>\n",
       "      <td>의약품 제조업</td>\n",
       "      <td>의약품 제조,판매,수출입</td>\n",
       "      <td>1976-03-24</td>\n",
       "      <td>12월</td>\n",
       "      <td>유준하, 한종현(각자 대표이사)</td>\n",
       "      <td>http://www.dong-wha.co.kr</td>\n",
       "      <td>서울특별시</td>\n",
       "    </tr>\n",
       "    <tr>\n",
       "      <th>342</th>\n",
       "      <td>KR모터스</td>\n",
       "      <td>000040</td>\n",
       "      <td>그외 기타 운송장비 제조업</td>\n",
       "      <td>이륜차(오토바이) 제조,도매</td>\n",
       "      <td>1976-05-25</td>\n",
       "      <td>12월</td>\n",
       "      <td>노성석</td>\n",
       "      <td>http://www.krmotors.com</td>\n",
       "      <td>경상남도</td>\n",
       "    </tr>\n",
       "    <tr>\n",
       "      <th>1588</th>\n",
       "      <td>경방</td>\n",
       "      <td>000050</td>\n",
       "      <td>종합 소매업</td>\n",
       "      <td>섬유류(면사,면혼방사,면직물,면혼방직물,화섬사,화섬직물) 제조,도매,수출입</td>\n",
       "      <td>1956-03-03</td>\n",
       "      <td>12월</td>\n",
       "      <td>김준, 김담</td>\n",
       "      <td>http://www.kyungbang.co.kr</td>\n",
       "      <td>서울특별시</td>\n",
       "    </tr>\n",
       "    <tr>\n",
       "      <th>36</th>\n",
       "      <td>메리츠화재</td>\n",
       "      <td>000060</td>\n",
       "      <td>보험업</td>\n",
       "      <td>손해보험(화재,해상,운송보험)</td>\n",
       "      <td>1956-07-02</td>\n",
       "      <td>12월</td>\n",
       "      <td>김용범</td>\n",
       "      <td>http://www.meritzfire.com</td>\n",
       "      <td>서울특별시</td>\n",
       "    </tr>\n",
       "    <tr>\n",
       "      <th>675</th>\n",
       "      <td>삼양홀딩스</td>\n",
       "      <td>000070</td>\n",
       "      <td>기타 금융업</td>\n",
       "      <td>지주회사,경영자문컨설팅</td>\n",
       "      <td>1968-12-27</td>\n",
       "      <td>12월</td>\n",
       "      <td>엄태웅, 이영준</td>\n",
       "      <td>http://www.samyang.com</td>\n",
       "      <td>서울특별시</td>\n",
       "    </tr>\n",
       "    <tr>\n",
       "      <th>...</th>\n",
       "      <td>...</td>\n",
       "      <td>...</td>\n",
       "      <td>...</td>\n",
       "      <td>...</td>\n",
       "      <td>...</td>\n",
       "      <td>...</td>\n",
       "      <td>...</td>\n",
       "      <td>...</td>\n",
       "      <td>...</td>\n",
       "    </tr>\n",
       "    <tr>\n",
       "      <th>1674</th>\n",
       "      <td>JTC</td>\n",
       "      <td>950170</td>\n",
       "      <td>종합 소매업</td>\n",
       "      <td>식품류, 생활용품류, 화장품류 (사후면세업)</td>\n",
       "      <td>2018-04-06</td>\n",
       "      <td>02월</td>\n",
       "      <td>구철모</td>\n",
       "      <td>http://www.groupjtc.com/korean/</td>\n",
       "      <td>일본</td>\n",
       "    </tr>\n",
       "    <tr>\n",
       "      <th>2026</th>\n",
       "      <td>미투젠</td>\n",
       "      <td>950190</td>\n",
       "      <td>소프트웨어 개발 및 공급업</td>\n",
       "      <td>캐주얼게임, 소셜카지노게임</td>\n",
       "      <td>2020-08-18</td>\n",
       "      <td>12월</td>\n",
       "      <td>손창욱 (대표이사)</td>\n",
       "      <td>http://www.me2zen.com</td>\n",
       "      <td>홍콩</td>\n",
       "    </tr>\n",
       "    <tr>\n",
       "      <th>2046</th>\n",
       "      <td>소마젠</td>\n",
       "      <td>950200</td>\n",
       "      <td>그외 기타 전문, 과학 및 기술 서비스업</td>\n",
       "      <td>유전체 분석 서비스 (NGS, CES 등)</td>\n",
       "      <td>2020-07-13</td>\n",
       "      <td>12월</td>\n",
       "      <td>홍수</td>\n",
       "      <td>http://psomagen.com</td>\n",
       "      <td>미국</td>\n",
       "    </tr>\n",
       "    <tr>\n",
       "      <th>1956</th>\n",
       "      <td>프레스티지바이오파마</td>\n",
       "      <td>950210</td>\n",
       "      <td>자연과학 및 공학 연구개발업</td>\n",
       "      <td>바이오시밀러 및 항체의약품 신약</td>\n",
       "      <td>2021-02-05</td>\n",
       "      <td>06월</td>\n",
       "      <td>박소연</td>\n",
       "      <td>http://www.prestigebiopharma.com</td>\n",
       "      <td>싱가포르</td>\n",
       "    </tr>\n",
       "    <tr>\n",
       "      <th>443</th>\n",
       "      <td>네오이뮨텍</td>\n",
       "      <td>950220</td>\n",
       "      <td>자연과학 및 공학 연구개발업</td>\n",
       "      <td>면역항암제</td>\n",
       "      <td>2021-03-16</td>\n",
       "      <td>12월</td>\n",
       "      <td>양세환</td>\n",
       "      <td>http://neoimmunetech.co.kr</td>\n",
       "      <td>미국</td>\n",
       "    </tr>\n",
       "  </tbody>\n",
       "</table>\n",
       "<p>2550 rows × 9 columns</p>\n",
       "</div>"
      ],
      "text/plain": [
       "             회사명    종목코드                      업종  \\\n",
       "31          동화약품  000020                 의약품 제조업   \n",
       "342        KR모터스  000040          그외 기타 운송장비 제조업   \n",
       "1588          경방  000050                  종합 소매업   \n",
       "36         메리츠화재  000060                     보험업   \n",
       "675        삼양홀딩스  000070                  기타 금융업   \n",
       "...          ...     ...                     ...   \n",
       "1674         JTC  950170                  종합 소매업   \n",
       "2026         미투젠  950190          소프트웨어 개발 및 공급업   \n",
       "2046         소마젠  950200  그외 기타 전문, 과학 및 기술 서비스업   \n",
       "1956  프레스티지바이오파마  950210         자연과학 및 공학 연구개발업   \n",
       "443        네오이뮨텍  950220         자연과학 및 공학 연구개발업   \n",
       "\n",
       "                                           주요제품         상장일  결산월  \\\n",
       "31                                의약품 제조,판매,수출입  1976-03-24  12월   \n",
       "342                             이륜차(오토바이) 제조,도매  1976-05-25  12월   \n",
       "1588  섬유류(면사,면혼방사,면직물,면혼방직물,화섬사,화섬직물) 제조,도매,수출입  1956-03-03  12월   \n",
       "36                             손해보험(화재,해상,운송보험)  1956-07-02  12월   \n",
       "675                                지주회사,경영자문컨설팅  1968-12-27  12월   \n",
       "...                                         ...         ...  ...   \n",
       "1674                   식품류, 생활용품류, 화장품류 (사후면세업)  2018-04-06  02월   \n",
       "2026                             캐주얼게임, 소셜카지노게임  2020-08-18  12월   \n",
       "2046                    유전체 분석 서비스 (NGS, CES 등)  2020-07-13  12월   \n",
       "1956                          바이오시밀러 및 항체의약품 신약  2021-02-05  06월   \n",
       "443                                       면역항암제  2021-03-16  12월   \n",
       "\n",
       "                   대표자명                              홈페이지     지역  \n",
       "31    유준하, 한종현(각자 대표이사)         http://www.dong-wha.co.kr  서울특별시  \n",
       "342                 노성석           http://www.krmotors.com   경상남도  \n",
       "1588             김준, 김담        http://www.kyungbang.co.kr  서울특별시  \n",
       "36                  김용범         http://www.meritzfire.com  서울특별시  \n",
       "675            엄태웅, 이영준            http://www.samyang.com  서울특별시  \n",
       "...                 ...                               ...    ...  \n",
       "1674                구철모   http://www.groupjtc.com/korean/     일본  \n",
       "2026         손창욱 (대표이사)             http://www.me2zen.com     홍콩  \n",
       "2046                 홍수               http://psomagen.com     미국  \n",
       "1956                박소연  http://www.prestigebiopharma.com   싱가포르  \n",
       "443                 양세환        http://neoimmunetech.co.kr     미국  \n",
       "\n",
       "[2550 rows x 9 columns]"
      ]
     },
     "execution_count": 7,
     "metadata": {},
     "output_type": "execute_result"
    }
   ],
   "source": [
    "df"
   ]
  },
  {
   "cell_type": "markdown",
   "id": "02f1381f",
   "metadata": {},
   "source": [
    "# beautifulsoup로 진행 -> 안됨 "
   ]
  },
  {
   "cell_type": "code",
   "execution_count": 8,
   "id": "4daffaed",
   "metadata": {},
   "outputs": [
    {
     "name": "stdout",
     "output_type": "stream",
     "text": [
      "Requirement already satisfied: beautifulsoup4 in c:\\users\\gjaischool-77\\anaconda3\\lib\\site-packages (4.11.1)\n",
      "Requirement already satisfied: soupsieve>1.2 in c:\\users\\gjaischool-77\\anaconda3\\lib\\site-packages (from beautifulsoup4) (2.3.1)\n",
      "Note: you may need to restart the kernel to use updated packages.\n"
     ]
    }
   ],
   "source": [
    "pip install beautifulsoup4"
   ]
  },
  {
   "cell_type": "code",
   "execution_count": 9,
   "id": "245ec36f",
   "metadata": {},
   "outputs": [
    {
     "name": "stdout",
     "output_type": "stream",
     "text": [
      "Requirement already satisfied: lxml in c:\\users\\gjaischool-77\\anaconda3\\lib\\site-packages (4.8.0)\n",
      "Note: you may need to restart the kernel to use updated packages.\n"
     ]
    }
   ],
   "source": [
    "pip install lxml"
   ]
  },
  {
   "cell_type": "code",
   "execution_count": 10,
   "id": "b7f25925",
   "metadata": {},
   "outputs": [
    {
     "name": "stdout",
     "output_type": "stream",
     "text": [
      "Requirement already satisfied: requests in c:\\users\\gjaischool-77\\anaconda3\\lib\\site-packages (2.27.1)\n",
      "Requirement already satisfied: urllib3<1.27,>=1.21.1 in c:\\users\\gjaischool-77\\anaconda3\\lib\\site-packages (from requests) (1.26.9)\n",
      "Requirement already satisfied: certifi>=2017.4.17 in c:\\users\\gjaischool-77\\anaconda3\\lib\\site-packages (from requests) (2021.10.8)\n",
      "Requirement already satisfied: charset-normalizer~=2.0.0 in c:\\users\\gjaischool-77\\anaconda3\\lib\\site-packages (from requests) (2.0.4)\n",
      "Requirement already satisfied: idna<4,>=2.5 in c:\\users\\gjaischool-77\\anaconda3\\lib\\site-packages (from requests) (3.3)\n"
     ]
    }
   ],
   "source": [
    "!pip install requests"
   ]
  },
  {
   "cell_type": "code",
   "execution_count": 11,
   "id": "c0092e75",
   "metadata": {
    "scrolled": true
   },
   "outputs": [
    {
     "ename": "NameError",
     "evalue": "name 'urlopen' is not defined",
     "output_type": "error",
     "traceback": [
      "\u001b[1;31m---------------------------------------------------------------------------\u001b[0m",
      "\u001b[1;31mNameError\u001b[0m                                 Traceback (most recent call last)",
      "Input \u001b[1;32mIn [11]\u001b[0m, in \u001b[0;36m<cell line: 2>\u001b[1;34m()\u001b[0m\n\u001b[0;32m      1\u001b[0m url \u001b[38;5;241m=\u001b[39m \u001b[38;5;124m'\u001b[39m\u001b[38;5;124mhttps://finance.naver.com/item/sise.naver?code=068270&page=1\u001b[39m\u001b[38;5;124m'\u001b[39m\n\u001b[1;32m----> 2\u001b[0m \u001b[38;5;28;01mwith\u001b[39;00m \u001b[43murlopen\u001b[49m(url) \u001b[38;5;28;01mas\u001b[39;00m doc:\n\u001b[0;32m      3\u001b[0m     html \u001b[38;5;241m=\u001b[39m BeautifulSoup(doc, \u001b[38;5;124m'\u001b[39m\u001b[38;5;124mlxml\u001b[39m\u001b[38;5;124m'\u001b[39m)\n\u001b[0;32m      4\u001b[0m     url1 \u001b[38;5;241m=\u001b[39m html\u001b[38;5;241m.\u001b[39mfind_all(\u001b[38;5;124m'\u001b[39m\u001b[38;5;124miframe\u001b[39m\u001b[38;5;124m'\u001b[39m)[\u001b[38;5;241m3\u001b[39m][\u001b[38;5;124m\"\u001b[39m\u001b[38;5;124msrc\u001b[39m\u001b[38;5;124m\"\u001b[39m]\n",
      "\u001b[1;31mNameError\u001b[0m: name 'urlopen' is not defined"
     ]
    }
   ],
   "source": [
    "url = 'https://finance.naver.com/item/sise.naver?code=068270&page=1'\n",
    "with urlopen(url) as doc:\n",
    "    html = BeautifulSoup(doc, 'lxml')\n",
    "    url1 = html.find_all('iframe')[3][\"src\"]\n",
    "\n",
    "url1 = 'https://finance.naver.com' + url1\n",
    "print(url1)\n",
    "\n",
    "res1 = requests.get(url1)\n",
    "frame_soup = BeautifulSoup(res1.content, 'lxml')\n",
    "\n",
    "print(frame_soup)\n",
    "    \n",
    "    \n",
    "    "
   ]
  },
  {
   "cell_type": "code",
   "execution_count": 12,
   "id": "6272f57e",
   "metadata": {},
   "outputs": [
    {
     "ename": "NameError",
     "evalue": "name 'urlopen' is not defined",
     "output_type": "error",
     "traceback": [
      "\u001b[1;31m---------------------------------------------------------------------------\u001b[0m",
      "\u001b[1;31mNameError\u001b[0m                                 Traceback (most recent call last)",
      "Input \u001b[1;32mIn [12]\u001b[0m, in \u001b[0;36m<cell line: 3>\u001b[1;34m()\u001b[0m\n\u001b[0;32m      1\u001b[0m url \u001b[38;5;241m=\u001b[39m \u001b[38;5;124m'\u001b[39m\u001b[38;5;124mhttps://finance.naver.com/item/sise.naver?code=068270&page=1\u001b[39m\u001b[38;5;124m'\u001b[39m\n\u001b[1;32m----> 3\u001b[0m \u001b[38;5;28;01mwith\u001b[39;00m \u001b[43murlopen\u001b[49m(url) \u001b[38;5;28;01mas\u001b[39;00m doc:\n\u001b[0;32m      4\u001b[0m     html \u001b[38;5;241m=\u001b[39m BeautifulSoup(doc, \u001b[38;5;124m'\u001b[39m\u001b[38;5;124mlxml\u001b[39m\u001b[38;5;124m'\u001b[39m)\n\u001b[0;32m      5\u001b[0m     iframexx \u001b[38;5;241m=\u001b[39m html\u001b[38;5;241m.\u001b[39mfind_all(\u001b[38;5;124m'\u001b[39m\u001b[38;5;124miframe\u001b[39m\u001b[38;5;124m'\u001b[39m)\n",
      "\u001b[1;31mNameError\u001b[0m: name 'urlopen' is not defined"
     ]
    }
   ],
   "source": [
    "url = 'https://finance.naver.com/item/sise.naver?code=068270&page=1'\n",
    "\n",
    "with urlopen(url) as doc:\n",
    "    html = BeautifulSoup(doc, 'lxml')\n",
    "    iframexx = html.find_all('iframe')\n",
    "\n",
    "#url1 = 'https://finance.naver.com' + url1\n",
    "\n",
    "    for iframe in iframexx:        \n",
    "        response = urlopen('https://finance.naver.com/item/sise_day.naver?code=068270')\n",
    "        iframe_soup = BeautifulSoup(response)\n",
    "        \n",
    "        print(iframe_soup)"
   ]
  },
  {
   "cell_type": "code",
   "execution_count": 13,
   "id": "38c101bd",
   "metadata": {},
   "outputs": [
    {
     "name": "stdout",
     "output_type": "stream",
     "text": [
      "/item/sise_day.naver?code=068270&page=429\n"
     ]
    }
   ],
   "source": [
    "import requests\n",
    "from bs4 import BeautifulSoup\n",
    "code ='068270'\n",
    "url = f'https://finance.naver.com/item/sise_day.naver?code={code}'\n",
    "req = requests.get(url,headers={'User-agent':'Mozilla/5.0'})\n",
    "html = BeautifulSoup(req.text,'lxml')\n",
    "pgrr = html.find('td',class_='pgRR')\n",
    "print(pgrr.a['href'])\n",
    "\n"
   ]
  },
  {
   "cell_type": "code",
   "execution_count": 14,
   "id": "fcbe95a1",
   "metadata": {},
   "outputs": [
    {
     "name": "stdout",
     "output_type": "stream",
     "text": [
      "<td class=\"pgRR\">\n",
      " <a href=\"/item/sise_day.naver?code=068270&amp;page=429\">\n",
      "  맨뒤\n",
      "  <img alt=\"\" border=\"0\" height=\"5\" src=\"https://ssl.pstatic.net/static/n/cmn/bu_pgarRR.gif\" width=\"8\"/>\n",
      " </a>\n",
      "</td>\n",
      "\n"
     ]
    }
   ],
   "source": [
    "print(pgrr.prettify())"
   ]
  },
  {
   "cell_type": "code",
   "execution_count": 15,
   "id": "e8c4b362",
   "metadata": {},
   "outputs": [
    {
     "name": "stdout",
     "output_type": "stream",
     "text": [
      "\n",
      "맨뒤\n",
      "\t\t\t\t\n",
      "\n",
      "\n"
     ]
    }
   ],
   "source": [
    "print(pgrr.text)"
   ]
  },
  {
   "cell_type": "code",
   "execution_count": 30,
   "id": "b5106ee6",
   "metadata": {},
   "outputs": [],
   "source": []
  },
  {
   "cell_type": "code",
   "execution_count": 24,
   "id": "2eef1b99",
   "metadata": {},
   "outputs": [
    {
     "name": "stdout",
     "output_type": "stream",
     "text": [
      "429\n"
     ]
    }
   ],
   "source": [
    "print(last_page)"
   ]
  },
  {
   "cell_type": "code",
   "execution_count": 25,
   "id": "dcea9883",
   "metadata": {},
   "outputs": [],
   "source": [
    "import requests\n",
    "df = pd.DataFrame()\n",
    "\n",
    "sise_url = 'https://finance.naver.com/item/sise_day.naver?code=068270'\n",
    "\n",
    "for page in range(1, int(last_page)+1):\n",
    "    page_url = '{}&page={}'.format(sise_url, page)\n",
    "    #df = df.append(pd.read_html(page_url, header=0)[0])\n",
    "    df = pd.read_html(requests.get(page_url, headers={'User-agent': 'Mozilla/5.0'}).text)\n",
    "    \n",
    "\n"
   ]
  },
  {
   "cell_type": "code",
   "execution_count": 27,
   "id": "7adc83f5",
   "metadata": {},
   "outputs": [
    {
     "data": {
      "text/plain": [
       "[            날짜      종가     전일비      시가      고가      저가       거래량\n",
       " 0          NaN     NaN     NaN     NaN     NaN     NaN       NaN\n",
       " 1   2005.07.26  5560.0    90.0  5830.0  5880.0  5560.0   39832.0\n",
       " 2   2005.07.25  5650.0    70.0  5500.0  5950.0  5500.0   61036.0\n",
       " 3   2005.07.22  5580.0   160.0  5850.0  5850.0  5530.0   69921.0\n",
       " 4   2005.07.21  5740.0   810.0  6450.0  6580.0  5730.0  182685.0\n",
       " 5   2005.07.20  6550.0  1150.0  7690.0  7690.0  6550.0  422688.0\n",
       " 6          NaN     NaN     NaN     NaN     NaN     NaN       NaN\n",
       " 7          NaN     NaN     NaN     NaN     NaN     NaN       NaN\n",
       " 8          NaN     NaN     NaN     NaN     NaN     NaN       NaN\n",
       " 9   2005.07.19  7700.0  2500.0  6700.0  7700.0  6510.0  499088.0\n",
       " 10         NaN     NaN     NaN     NaN     NaN     NaN       NaN\n",
       " 11         NaN     NaN     NaN     NaN     NaN     NaN       NaN\n",
       " 12         NaN     NaN     NaN     NaN     NaN     NaN       NaN\n",
       " 13         NaN     NaN     NaN     NaN     NaN     NaN       NaN\n",
       " 14         NaN     NaN     NaN     NaN     NaN     NaN       NaN,\n",
       "    0   1    2    3    4    5    6    7    8    9    10\n",
       " 0  맨앞  이전  421  422  423  424  425  426  427  428  429]"
      ]
     },
     "execution_count": 27,
     "metadata": {},
     "output_type": "execute_result"
    }
   ],
   "source": [
    "df"
   ]
  },
  {
   "cell_type": "code",
   "execution_count": 20,
   "id": "bd11e776",
   "metadata": {},
   "outputs": [
    {
     "data": {
      "text/html": [
       "<div>\n",
       "<style scoped>\n",
       "    .dataframe tbody tr th:only-of-type {\n",
       "        vertical-align: middle;\n",
       "    }\n",
       "\n",
       "    .dataframe tbody tr th {\n",
       "        vertical-align: top;\n",
       "    }\n",
       "\n",
       "    .dataframe thead th {\n",
       "        text-align: right;\n",
       "    }\n",
       "</style>\n",
       "<table border=\"1\" class=\"dataframe\">\n",
       "  <thead>\n",
       "    <tr style=\"text-align: right;\">\n",
       "      <th></th>\n",
       "    </tr>\n",
       "  </thead>\n",
       "  <tbody>\n",
       "  </tbody>\n",
       "</table>\n",
       "</div>"
      ],
      "text/plain": [
       "Empty DataFrame\n",
       "Columns: []\n",
       "Index: []"
      ]
     },
     "execution_count": 20,
     "metadata": {},
     "output_type": "execute_result"
    }
   ],
   "source": [
    "pd.DataFrame(df)"
   ]
  },
  {
   "cell_type": "code",
   "execution_count": 28,
   "id": "60686501",
   "metadata": {},
   "outputs": [],
   "source": [
    "import pandas as pd\n",
    "from urllib.request import urlopen\n",
    "from bs4 import BeautifulSoup\n",
    "from matplotlib import pyplot as plt\n",
    "\n",
    "with urlopen(url) as doc:\n",
    "    code ='068270'\n",
    "    url = f'https://finance.naver.com/item/sise_day.naver?code={code}'\n",
    "    req = requests.get(url,headers={'User-agent':'Mozilla/5.0'})\n",
    "    html = BeautifulSoup(req.text,'lxml')\n",
    "    pgrr = html.find('td',class_='pgRR')\n",
    "    s = str(pgrr.a['href']).split('=')\n",
    "    last_page = s[-1]\n",
    "    \n",
    "    \n",
    "df = pd.DataFrame()\n",
    "sise_url = 'https://finance.naver.com/item/sise_day.naver?code=068270'\n",
    "for page in range(1, int(last_page)+1):\n",
    "    page_url = '{}&page={}'.format(sise_url, page)\n",
    "    #df = df.append(pd.read_html(page_url, header=0)[0])\n",
    "    df = pd.read_html(requests.get(page_url, headers={'User-agent': 'Mozilla/5.0'}).text)\n",
    "    \n"
   ]
  },
  {
   "cell_type": "code",
   "execution_count": 35,
   "id": "69d0ef07",
   "metadata": {},
   "outputs": [],
   "source": [
    "import pandas as pd\n",
    "from  urllib.request import urlopen\n",
    "from bs4 import BeautifulSoup\n",
    "from matplotlib import pyplot as plt\n",
    "\n",
    "\n",
    "with urlopen(url) as doc:\n",
    "    code ='068270'\n",
    "    url = f'https://finance.naver.com/item/sise_day.naver?code={code}'\n",
    "    req = requests.get(url,headers={'User-agent':'Mozilla/5.0'})\n",
    "    html = BeautifulSoup(req.text,'lxml')\n",
    "    pgrr = html.find('td',class_='pgRR')\n",
    "    s = str(pgrr.a['href']).split('=')\n",
    "    \n",
    "    last_page = s[-1]\n",
    "\n",
    "\n"
   ]
  },
  {
   "cell_type": "code",
   "execution_count": 72,
   "id": "1b247300",
   "metadata": {},
   "outputs": [],
   "source": [
    "import requests\n",
    "\n",
    "df = pd.DataFrame()\n",
    "headers={'User-agent': 'Mozilla/5.0'}\n",
    "sise_url = 'https://finance.naver.com/item/sise_day.nhn?code=068270&page=1'\n",
    "for page in range(1, int(last_page) + 1):\n",
    "    page_url = '{}&page={}'.format(sise_url, page)\n",
    "    \n",
    "    df1 = pd.read_html(requests.get(url,  headers=headers).text)\n",
    "#   df = df.append(pd.read_html(page_url,encoding='cp949', header=0)[0])\n",
    "\n",
    "    \n"
   ]
  },
  {
   "cell_type": "code",
   "execution_count": 82,
   "id": "d4ab2e9e",
   "metadata": {},
   "outputs": [
    {
     "data": {
      "text/plain": [
       "[            날짜        종가     전일비        시가        고가        저가       거래량\n",
       " 0          NaN       NaN     NaN       NaN       NaN       NaN       NaN\n",
       " 1   2022.11.16  183500.0  4500.0  188500.0  190000.0  182500.0  160464.0\n",
       " 2   2022.11.15  188000.0  3000.0  186500.0  189000.0  185000.0  402168.0\n",
       " 3   2022.11.14  185000.0  7000.0  190000.0  192500.0  184000.0  605514.0\n",
       " 4   2022.11.11  192000.0  5000.0  191500.0  194000.0  189500.0  475361.0\n",
       " 5   2022.11.10  187000.0   500.0  189500.0  191500.0  186500.0  431821.0\n",
       " 6          NaN       NaN     NaN       NaN       NaN       NaN       NaN\n",
       " 7          NaN       NaN     NaN       NaN       NaN       NaN       NaN\n",
       " 8          NaN       NaN     NaN       NaN       NaN       NaN       NaN\n",
       " 9   2022.11.09  187500.0     0.0  188500.0  189000.0  186000.0  272665.0\n",
       " 10  2022.11.08  187500.0  4500.0  184000.0  188500.0  184000.0  326856.0\n",
       " 11  2022.11.07  183000.0  1000.0  185000.0  186500.0  182500.0  269469.0\n",
       " 12  2022.11.04  184000.0  1000.0  183500.0  186000.0  183000.0  256117.0\n",
       " 13  2022.11.03  185000.0  2500.0  183000.0  187500.0  181000.0  338269.0\n",
       " 14         NaN       NaN     NaN       NaN       NaN       NaN       NaN,\n",
       "    0   1   2   3   4   5   6   7   8   9   10  11\n",
       " 0   1   2   3   4   5   6   7   8   9  10  다음  맨뒤]"
      ]
     },
     "execution_count": 82,
     "metadata": {},
     "output_type": "execute_result"
    }
   ],
   "source": [
    "df1"
   ]
  },
  {
   "cell_type": "code",
   "execution_count": 79,
   "id": "64a0808f",
   "metadata": {},
   "outputs": [
    {
     "name": "stderr",
     "output_type": "stream",
     "text": [
      "C:\\Users\\gjaischool-77\\anaconda3\\lib\\site-packages\\pandas\\core\\internals\\construction.py:576: VisibleDeprecationWarning: Creating an ndarray from ragged nested sequences (which is a list-or-tuple of lists-or-tuples-or ndarrays with different lengths or shapes) is deprecated. If you meant to do this, you must specify 'dtype=object' when creating the ndarray.\n",
      "  values = np.array([convert(v) for v in values])\n"
     ]
    },
    {
     "ename": "ValueError",
     "evalue": "Shape of passed values is (2, 1), indices imply (7, 1)",
     "output_type": "error",
     "traceback": [
      "\u001b[1;31m---------------------------------------------------------------------------\u001b[0m",
      "\u001b[1;31mValueError\u001b[0m                                Traceback (most recent call last)",
      "Input \u001b[1;32mIn [79]\u001b[0m, in \u001b[0;36m<cell line: 1>\u001b[1;34m()\u001b[0m\n\u001b[1;32m----> 1\u001b[0m \u001b[43mpd\u001b[49m\u001b[38;5;241;43m.\u001b[39;49m\u001b[43mDataFrame\u001b[49m\u001b[43m(\u001b[49m\u001b[43mdf1\u001b[49m\u001b[43m,\u001b[49m\u001b[43m \u001b[49m\u001b[43mindex\u001b[49m\u001b[38;5;241;43m=\u001b[39;49m\u001b[43mpd\u001b[49m\u001b[38;5;241;43m.\u001b[39;49m\u001b[43mIndex\u001b[49m\u001b[43m(\u001b[49m\u001b[43m[\u001b[49m\u001b[38;5;124;43m'\u001b[39;49m\u001b[38;5;124;43m날짜\u001b[39;49m\u001b[38;5;124;43m'\u001b[39;49m\u001b[43m,\u001b[49m\u001b[43m \u001b[49m\u001b[38;5;124;43m'\u001b[39;49m\u001b[38;5;124;43m종가\u001b[39;49m\u001b[38;5;124;43m'\u001b[39;49m\u001b[43m,\u001b[49m\u001b[43m \u001b[49m\u001b[38;5;124;43m'\u001b[39;49m\u001b[38;5;124;43m전일비\u001b[39;49m\u001b[38;5;124;43m'\u001b[39;49m\u001b[43m,\u001b[49m\u001b[38;5;124;43m'\u001b[39;49m\u001b[38;5;124;43m시가\u001b[39;49m\u001b[38;5;124;43m'\u001b[39;49m\u001b[43m,\u001b[49m\u001b[38;5;124;43m'\u001b[39;49m\u001b[38;5;124;43m고가\u001b[39;49m\u001b[38;5;124;43m'\u001b[39;49m\u001b[43m,\u001b[49m\u001b[38;5;124;43m'\u001b[39;49m\u001b[38;5;124;43m저가\u001b[39;49m\u001b[38;5;124;43m'\u001b[39;49m\u001b[43m,\u001b[49m\u001b[38;5;124;43m'\u001b[39;49m\u001b[38;5;124;43m거래량\u001b[39;49m\u001b[38;5;124;43m'\u001b[39;49m\u001b[43m]\u001b[49m\u001b[43m)\u001b[49m\u001b[43m)\u001b[49m\n",
      "File \u001b[1;32m~\\anaconda3\\lib\\site-packages\\pandas\\core\\frame.py:737\u001b[0m, in \u001b[0;36mDataFrame.__init__\u001b[1;34m(self, data, index, columns, dtype, copy)\u001b[0m\n\u001b[0;32m    729\u001b[0m         mgr \u001b[38;5;241m=\u001b[39m arrays_to_mgr(\n\u001b[0;32m    730\u001b[0m             arrays,\n\u001b[0;32m    731\u001b[0m             columns,\n\u001b[1;32m   (...)\u001b[0m\n\u001b[0;32m    734\u001b[0m             typ\u001b[38;5;241m=\u001b[39mmanager,\n\u001b[0;32m    735\u001b[0m         )\n\u001b[0;32m    736\u001b[0m     \u001b[38;5;28;01melse\u001b[39;00m:\n\u001b[1;32m--> 737\u001b[0m         mgr \u001b[38;5;241m=\u001b[39m \u001b[43mndarray_to_mgr\u001b[49m\u001b[43m(\u001b[49m\n\u001b[0;32m    738\u001b[0m \u001b[43m            \u001b[49m\u001b[43mdata\u001b[49m\u001b[43m,\u001b[49m\n\u001b[0;32m    739\u001b[0m \u001b[43m            \u001b[49m\u001b[43mindex\u001b[49m\u001b[43m,\u001b[49m\n\u001b[0;32m    740\u001b[0m \u001b[43m            \u001b[49m\u001b[43mcolumns\u001b[49m\u001b[43m,\u001b[49m\n\u001b[0;32m    741\u001b[0m \u001b[43m            \u001b[49m\u001b[43mdtype\u001b[49m\u001b[38;5;241;43m=\u001b[39;49m\u001b[43mdtype\u001b[49m\u001b[43m,\u001b[49m\n\u001b[0;32m    742\u001b[0m \u001b[43m            \u001b[49m\u001b[43mcopy\u001b[49m\u001b[38;5;241;43m=\u001b[39;49m\u001b[43mcopy\u001b[49m\u001b[43m,\u001b[49m\n\u001b[0;32m    743\u001b[0m \u001b[43m            \u001b[49m\u001b[43mtyp\u001b[49m\u001b[38;5;241;43m=\u001b[39;49m\u001b[43mmanager\u001b[49m\u001b[43m,\u001b[49m\n\u001b[0;32m    744\u001b[0m \u001b[43m        \u001b[49m\u001b[43m)\u001b[49m\n\u001b[0;32m    745\u001b[0m \u001b[38;5;28;01melse\u001b[39;00m:\n\u001b[0;32m    746\u001b[0m     mgr \u001b[38;5;241m=\u001b[39m dict_to_mgr(\n\u001b[0;32m    747\u001b[0m         {},\n\u001b[0;32m    748\u001b[0m         index,\n\u001b[1;32m   (...)\u001b[0m\n\u001b[0;32m    751\u001b[0m         typ\u001b[38;5;241m=\u001b[39mmanager,\n\u001b[0;32m    752\u001b[0m     )\n",
      "File \u001b[1;32m~\\anaconda3\\lib\\site-packages\\pandas\\core\\internals\\construction.py:351\u001b[0m, in \u001b[0;36mndarray_to_mgr\u001b[1;34m(values, index, columns, dtype, copy, typ)\u001b[0m\n\u001b[0;32m    346\u001b[0m \u001b[38;5;66;03m# _prep_ndarray ensures that values.ndim == 2 at this point\u001b[39;00m\n\u001b[0;32m    347\u001b[0m index, columns \u001b[38;5;241m=\u001b[39m _get_axes(\n\u001b[0;32m    348\u001b[0m     values\u001b[38;5;241m.\u001b[39mshape[\u001b[38;5;241m0\u001b[39m], values\u001b[38;5;241m.\u001b[39mshape[\u001b[38;5;241m1\u001b[39m], index\u001b[38;5;241m=\u001b[39mindex, columns\u001b[38;5;241m=\u001b[39mcolumns\n\u001b[0;32m    349\u001b[0m )\n\u001b[1;32m--> 351\u001b[0m \u001b[43m_check_values_indices_shape_match\u001b[49m\u001b[43m(\u001b[49m\u001b[43mvalues\u001b[49m\u001b[43m,\u001b[49m\u001b[43m \u001b[49m\u001b[43mindex\u001b[49m\u001b[43m,\u001b[49m\u001b[43m \u001b[49m\u001b[43mcolumns\u001b[49m\u001b[43m)\u001b[49m\n\u001b[0;32m    353\u001b[0m \u001b[38;5;28;01mif\u001b[39;00m typ \u001b[38;5;241m==\u001b[39m \u001b[38;5;124m\"\u001b[39m\u001b[38;5;124marray\u001b[39m\u001b[38;5;124m\"\u001b[39m:\n\u001b[0;32m    355\u001b[0m     \u001b[38;5;28;01mif\u001b[39;00m \u001b[38;5;28missubclass\u001b[39m(values\u001b[38;5;241m.\u001b[39mdtype\u001b[38;5;241m.\u001b[39mtype, \u001b[38;5;28mstr\u001b[39m):\n",
      "File \u001b[1;32m~\\anaconda3\\lib\\site-packages\\pandas\\core\\internals\\construction.py:422\u001b[0m, in \u001b[0;36m_check_values_indices_shape_match\u001b[1;34m(values, index, columns)\u001b[0m\n\u001b[0;32m    420\u001b[0m passed \u001b[38;5;241m=\u001b[39m values\u001b[38;5;241m.\u001b[39mshape\n\u001b[0;32m    421\u001b[0m implied \u001b[38;5;241m=\u001b[39m (\u001b[38;5;28mlen\u001b[39m(index), \u001b[38;5;28mlen\u001b[39m(columns))\n\u001b[1;32m--> 422\u001b[0m \u001b[38;5;28;01mraise\u001b[39;00m \u001b[38;5;167;01mValueError\u001b[39;00m(\u001b[38;5;124mf\u001b[39m\u001b[38;5;124m\"\u001b[39m\u001b[38;5;124mShape of passed values is \u001b[39m\u001b[38;5;132;01m{\u001b[39;00mpassed\u001b[38;5;132;01m}\u001b[39;00m\u001b[38;5;124m, indices imply \u001b[39m\u001b[38;5;132;01m{\u001b[39;00mimplied\u001b[38;5;132;01m}\u001b[39;00m\u001b[38;5;124m\"\u001b[39m)\n",
      "\u001b[1;31mValueError\u001b[0m: Shape of passed values is (2, 1), indices imply (7, 1)"
     ]
    }
   ],
   "source": [
    "pd.DataFrame(df1, index=pd.Index(['날짜', '종가', '전일비','시가','고가','저가','거래량']))"
   ]
  },
  {
   "cell_type": "code",
   "execution_count": 78,
   "id": "7ed0695c",
   "metadata": {},
   "outputs": [
    {
     "data": {
      "text/html": [
       "<div>\n",
       "<style scoped>\n",
       "    .dataframe tbody tr th:only-of-type {\n",
       "        vertical-align: middle;\n",
       "    }\n",
       "\n",
       "    .dataframe tbody tr th {\n",
       "        vertical-align: top;\n",
       "    }\n",
       "\n",
       "    .dataframe thead th {\n",
       "        text-align: right;\n",
       "    }\n",
       "</style>\n",
       "<table border=\"1\" class=\"dataframe\">\n",
       "  <thead>\n",
       "    <tr style=\"text-align: right;\">\n",
       "      <th></th>\n",
       "      <th>0</th>\n",
       "    </tr>\n",
       "  </thead>\n",
       "  <tbody>\n",
       "    <tr>\n",
       "      <th>0</th>\n",
       "      <td>날짜        종가     전일비        시가    ...</td>\n",
       "    </tr>\n",
       "    <tr>\n",
       "      <th>1</th>\n",
       "      <td>0   1   2   3   4   5   6   7   8   9   10 ...</td>\n",
       "    </tr>\n",
       "  </tbody>\n",
       "</table>\n",
       "</div>"
      ],
      "text/plain": [
       "                                                   0\n",
       "0              날짜        종가     전일비        시가    ...\n",
       "1     0   1   2   3   4   5   6   7   8   9   10 ..."
      ]
     },
     "execution_count": 78,
     "metadata": {},
     "output_type": "execute_result"
    }
   ],
   "source": [
    "pd.DataFrame(df1)\n"
   ]
  },
  {
   "cell_type": "code",
   "execution_count": 62,
   "id": "f2040d9e",
   "metadata": {
    "scrolled": true
   },
   "outputs": [
    {
     "name": "stderr",
     "output_type": "stream",
     "text": [
      "C:\\Users\\gjaischool-77\\anaconda3\\lib\\site-packages\\pandas\\core\\internals\\construction.py:576: VisibleDeprecationWarning: Creating an ndarray from ragged nested sequences (which is a list-or-tuple of lists-or-tuples-or ndarrays with different lengths or shapes) is deprecated. If you meant to do this, you must specify 'dtype=object' when creating the ndarray.\n",
      "  values = np.array([convert(v) for v in values])\n"
     ]
    },
    {
     "data": {
      "text/html": [
       "<div>\n",
       "<style scoped>\n",
       "    .dataframe tbody tr th:only-of-type {\n",
       "        vertical-align: middle;\n",
       "    }\n",
       "\n",
       "    .dataframe tbody tr th {\n",
       "        vertical-align: top;\n",
       "    }\n",
       "\n",
       "    .dataframe thead th {\n",
       "        text-align: right;\n",
       "    }\n",
       "</style>\n",
       "<table border=\"1\" class=\"dataframe\">\n",
       "  <thead>\n",
       "    <tr style=\"text-align: right;\">\n",
       "      <th></th>\n",
       "      <th>0</th>\n",
       "    </tr>\n",
       "  </thead>\n",
       "  <tbody>\n",
       "    <tr>\n",
       "      <th>0</th>\n",
       "      <td>날짜        종가     전일비        시가    ...</td>\n",
       "    </tr>\n",
       "    <tr>\n",
       "      <th>1</th>\n",
       "      <td>0   1   2   3   4   5   6   7   8   9   10 ...</td>\n",
       "    </tr>\n",
       "  </tbody>\n",
       "</table>\n",
       "</div>"
      ],
      "text/plain": [
       "                                                   0\n",
       "0              날짜        종가     전일비        시가    ...\n",
       "1     0   1   2   3   4   5   6   7   8   9   10 ..."
      ]
     },
     "execution_count": 62,
     "metadata": {},
     "output_type": "execute_result"
    }
   ],
   "source": [
    "pd.DataFrame(df1)"
   ]
  },
  {
   "cell_type": "code",
   "execution_count": 43,
   "id": "2413fbbc",
   "metadata": {
    "scrolled": true
   },
   "outputs": [
    {
     "name": "stderr",
     "output_type": "stream",
     "text": [
      "C:\\Users\\gjaischool-77\\anaconda3\\lib\\site-packages\\pandas\\core\\internals\\construction.py:576: VisibleDeprecationWarning: Creating an ndarray from ragged nested sequences (which is a list-or-tuple of lists-or-tuples-or ndarrays with different lengths or shapes) is deprecated. If you meant to do this, you must specify 'dtype=object' when creating the ndarray.\n",
      "  values = np.array([convert(v) for v in values])\n"
     ]
    },
    {
     "data": {
      "text/html": [
       "<div>\n",
       "<style scoped>\n",
       "    .dataframe tbody tr th:only-of-type {\n",
       "        vertical-align: middle;\n",
       "    }\n",
       "\n",
       "    .dataframe tbody tr th {\n",
       "        vertical-align: top;\n",
       "    }\n",
       "\n",
       "    .dataframe thead th {\n",
       "        text-align: right;\n",
       "    }\n",
       "</style>\n",
       "<table border=\"1\" class=\"dataframe\">\n",
       "  <thead>\n",
       "    <tr style=\"text-align: right;\">\n",
       "      <th></th>\n",
       "      <th>0</th>\n",
       "    </tr>\n",
       "  </thead>\n",
       "  <tbody>\n",
       "    <tr>\n",
       "      <th>0</th>\n",
       "      <td>날짜        종가     전일비        시가    ...</td>\n",
       "    </tr>\n",
       "    <tr>\n",
       "      <th>1</th>\n",
       "      <td>0   1   2   3   4   5   6   7   8   9   10 ...</td>\n",
       "    </tr>\n",
       "  </tbody>\n",
       "</table>\n",
       "</div>"
      ],
      "text/plain": [
       "                                                   0\n",
       "0              날짜        종가     전일비        시가    ...\n",
       "1     0   1   2   3   4   5   6   7   8   9   10 ..."
      ]
     },
     "execution_count": 43,
     "metadata": {},
     "output_type": "execute_result"
    }
   ],
   "source": [
    "pd.DataFrame(df)"
   ]
  },
  {
   "cell_type": "code",
   "execution_count": null,
   "id": "08f7695f",
   "metadata": {},
   "outputs": [],
   "source": []
  }
 ],
 "metadata": {
  "kernelspec": {
   "display_name": "Python 3 (ipykernel)",
   "language": "python",
   "name": "python3"
  },
  "language_info": {
   "codemirror_mode": {
    "name": "ipython",
    "version": 3
   },
   "file_extension": ".py",
   "mimetype": "text/x-python",
   "name": "python",
   "nbconvert_exporter": "python",
   "pygments_lexer": "ipython3",
   "version": "3.9.12"
  },
  "toc": {
   "base_numbering": 1,
   "nav_menu": {},
   "number_sections": true,
   "sideBar": true,
   "skip_h1_title": false,
   "title_cell": "Table of Contents",
   "title_sidebar": "Contents",
   "toc_cell": false,
   "toc_position": {},
   "toc_section_display": true,
   "toc_window_display": false
  }
 },
 "nbformat": 4,
 "nbformat_minor": 5
}
